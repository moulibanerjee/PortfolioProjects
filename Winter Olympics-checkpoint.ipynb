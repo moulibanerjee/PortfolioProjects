{
 "cells": [
  {
   "cell_type": "markdown",
   "metadata": {},
   "source": [
    "In the data set, you find information about the olympic winter games 2014, 2018 and 2022, indicated by\n",
    "the variable olympics. For each olympic, we picked all starters of the (parallel) giant slalom in snowboar\u0002ding and alpine skiing. The respective discipline is indicated by the variable discipline. For all athletes,\n",
    "the data set includes their sex (m for male, f for female) and their age. The age is defined as the difference\n",
    "between the birth year and the year the olympics did take place.\n",
    "\n",
    "a) Perform a detailed descriptive analysis of the data set. Use appropriate statistical measures to\n",
    "describe the most important variables in the data set. Make sure to include at least one statistical\n",
    "graphic. The analysis should show in a descriptive way whether there is an age difference or not.\n",
    "\n",
    "b) Is there a significant difference in the location of the variable age for the following two groups:\n",
    "female athletes snowboarding and female athletes alping skiing? Please use a statistical hypothesis\n",
    "test to answer this question and please do so for all three olympics (2014, 2018 and 2022).\n",
    "\n",
    "You are free in the choice of methods, as long as the task is answered appropriately. Your report should\n",
    "contain an introduction and a short description of the task and the data set. Moreover, you have to\n",
    "describe all statistical methods you used. Please do so in a mathematical way: If possible, give mathema\u0002tical definitions of the methods. The report should end with a summary and a discussion of the results.\n",
    "Be sure to do proper literature work: If you use a method, cite a book in which it is explained. When you\n",
    "make a statement, support it with a proof or a literature citation."
   ]
  },
  {
   "cell_type": "code",
   "execution_count": 1,
   "metadata": {},
   "outputs": [
    {
     "data": {
      "text/plain": [
       "<Figure size 1008x1008 with 0 Axes>"
      ]
     },
     "metadata": {},
     "output_type": "display_data"
    }
   ],
   "source": [
    "import numpy as np\n",
    "import pandas as pd\n",
    "import matplotlib.pyplot as plt\n",
    "%matplotlib inline\n",
    "import seaborn as sns\n",
    "# set plot style: grey grid in the background:\n",
    "sns.set(style=\"darkgrid\")\n",
    "# set the figure size\n",
    "plt.figure(figsize=(14, 14))\n",
    "import warnings\n",
    "warnings.filterwarnings('ignore')"
   ]
  },
  {
   "cell_type": "code",
   "execution_count": 2,
   "metadata": {},
   "outputs": [
    {
     "data": {
      "text/plain": [
       "(749, 4)"
      ]
     },
     "execution_count": 2,
     "metadata": {},
     "output_type": "execute_result"
    }
   ],
   "source": [
    "df =  pd.read_csv('WinterGames.csv')\n",
    "df.shape"
   ]
  },
  {
   "cell_type": "code",
   "execution_count": 3,
   "metadata": {},
   "outputs": [
    {
     "data": {
      "text/plain": [
       "Index(['olympics', 'discipline', 'sex', 'age'], dtype='object')"
      ]
     },
     "execution_count": 3,
     "metadata": {},
     "output_type": "execute_result"
    }
   ],
   "source": [
    "df.columns"
   ]
  },
  {
   "cell_type": "code",
   "execution_count": 4,
   "metadata": {},
   "outputs": [
    {
     "data": {
      "text/html": [
       "<div>\n",
       "<style scoped>\n",
       "    .dataframe tbody tr th:only-of-type {\n",
       "        vertical-align: middle;\n",
       "    }\n",
       "\n",
       "    .dataframe tbody tr th {\n",
       "        vertical-align: top;\n",
       "    }\n",
       "\n",
       "    .dataframe thead th {\n",
       "        text-align: right;\n",
       "    }\n",
       "</style>\n",
       "<table border=\"1\" class=\"dataframe\">\n",
       "  <thead>\n",
       "    <tr style=\"text-align: right;\">\n",
       "      <th></th>\n",
       "      <th>olympics</th>\n",
       "      <th>age</th>\n",
       "    </tr>\n",
       "  </thead>\n",
       "  <tbody>\n",
       "    <tr>\n",
       "      <th>count</th>\n",
       "      <td>749.000000</td>\n",
       "      <td>749.000000</td>\n",
       "    </tr>\n",
       "    <tr>\n",
       "      <th>mean</th>\n",
       "      <td>2017.855808</td>\n",
       "      <td>25.882510</td>\n",
       "    </tr>\n",
       "    <tr>\n",
       "      <th>std</th>\n",
       "      <td>3.250756</td>\n",
       "      <td>4.901661</td>\n",
       "    </tr>\n",
       "    <tr>\n",
       "      <th>min</th>\n",
       "      <td>2014.000000</td>\n",
       "      <td>17.000000</td>\n",
       "    </tr>\n",
       "    <tr>\n",
       "      <th>25%</th>\n",
       "      <td>2014.000000</td>\n",
       "      <td>22.000000</td>\n",
       "    </tr>\n",
       "    <tr>\n",
       "      <th>50%</th>\n",
       "      <td>2018.000000</td>\n",
       "      <td>26.000000</td>\n",
       "    </tr>\n",
       "    <tr>\n",
       "      <th>75%</th>\n",
       "      <td>2022.000000</td>\n",
       "      <td>29.000000</td>\n",
       "    </tr>\n",
       "    <tr>\n",
       "      <th>max</th>\n",
       "      <td>2022.000000</td>\n",
       "      <td>45.000000</td>\n",
       "    </tr>\n",
       "  </tbody>\n",
       "</table>\n",
       "</div>"
      ],
      "text/plain": [
       "          olympics         age\n",
       "count   749.000000  749.000000\n",
       "mean   2017.855808   25.882510\n",
       "std       3.250756    4.901661\n",
       "min    2014.000000   17.000000\n",
       "25%    2014.000000   22.000000\n",
       "50%    2018.000000   26.000000\n",
       "75%    2022.000000   29.000000\n",
       "max    2022.000000   45.000000"
      ]
     },
     "execution_count": 4,
     "metadata": {},
     "output_type": "execute_result"
    }
   ],
   "source": [
    "df.describe()"
   ]
  },
  {
   "cell_type": "code",
   "execution_count": 5,
   "metadata": {},
   "outputs": [
    {
     "data": {
      "text/html": [
       "<div>\n",
       "<style scoped>\n",
       "    .dataframe tbody tr th:only-of-type {\n",
       "        vertical-align: middle;\n",
       "    }\n",
       "\n",
       "    .dataframe tbody tr th {\n",
       "        vertical-align: top;\n",
       "    }\n",
       "\n",
       "    .dataframe thead th {\n",
       "        text-align: right;\n",
       "    }\n",
       "</style>\n",
       "<table border=\"1\" class=\"dataframe\">\n",
       "  <thead>\n",
       "    <tr style=\"text-align: right;\">\n",
       "      <th></th>\n",
       "      <th>olympics</th>\n",
       "      <th>discipline</th>\n",
       "      <th>sex</th>\n",
       "      <th>age</th>\n",
       "    </tr>\n",
       "  </thead>\n",
       "  <tbody>\n",
       "    <tr>\n",
       "      <th>0</th>\n",
       "      <td>2022</td>\n",
       "      <td>Snowboard</td>\n",
       "      <td>f</td>\n",
       "      <td>24</td>\n",
       "    </tr>\n",
       "  </tbody>\n",
       "</table>\n",
       "</div>"
      ],
      "text/plain": [
       "   olympics discipline sex  age\n",
       "0      2022  Snowboard   f   24"
      ]
     },
     "execution_count": 5,
     "metadata": {},
     "output_type": "execute_result"
    }
   ],
   "source": [
    "df.head(1)"
   ]
  },
  {
   "cell_type": "markdown",
   "metadata": {},
   "source": [
    "## Descriptive Analysis"
   ]
  },
  {
   "cell_type": "markdown",
   "metadata": {},
   "source": [
    "##### In statistical analysis there are three fundamental ways to describe data:\n",
    "<ol>\n",
    "    <li>Location or Central tendency</li>\n",
    "    <li>Spread</li>\n",
    "    <li>Shape or distribution</li>\n",
    "</ol>\n",
    "    \n",
    "##### Here, we will find:\n",
    "<ol>\n",
    "    <li>Measure of Central Tendency (mean, median, mode)</li>\n",
    "    <li>Measure of Spread (Range, Quartile, Percentiles, absolute deviation, variance and std. deviation)</li>\n",
    "    <li>Measure of symmetry (Skewness)</li>\n",
    "    <li>Measure of Peakedness (Kurtosis)</li>\n",
    "<ol>"
   ]
  },
  {
   "cell_type": "code",
   "execution_count": 6,
   "metadata": {},
   "outputs": [
    {
     "data": {
      "text/plain": [
       "25.882510013351133"
      ]
     },
     "execution_count": 6,
     "metadata": {},
     "output_type": "execute_result"
    }
   ],
   "source": [
    "np.mean(df.age)"
   ]
  },
  {
   "cell_type": "code",
   "execution_count": 7,
   "metadata": {},
   "outputs": [
    {
     "data": {
      "text/plain": [
       "26.0"
      ]
     },
     "execution_count": 7,
     "metadata": {},
     "output_type": "execute_result"
    }
   ],
   "source": [
    "np.median(df.age)"
   ]
  },
  {
   "cell_type": "code",
   "execution_count": 8,
   "metadata": {
    "scrolled": false
   },
   "outputs": [
    {
     "data": {
      "text/plain": [
       "0    26\n",
       "dtype: int64"
      ]
     },
     "execution_count": 8,
     "metadata": {},
     "output_type": "execute_result"
    }
   ],
   "source": [
    "df.age.mode()"
   ]
  },
  {
   "cell_type": "code",
   "execution_count": 9,
   "metadata": {},
   "outputs": [
    {
     "data": {
      "text/plain": [
       "(array([ 59., 147., 167., 172.,  84.,  68.,  32.,  12.,   3.,   5.]),\n",
       " array([17. , 19.8, 22.6, 25.4, 28.2, 31. , 33.8, 36.6, 39.4, 42.2, 45. ]),\n",
       " <BarContainer object of 10 artists>)"
      ]
     },
     "execution_count": 9,
     "metadata": {},
     "output_type": "execute_result"
    },
    {
     "data": {
      "image/png": "[encoded data removed]",
      "text/plain": [
       "<Figure size 432x288 with 1 Axes>"
      ]
     },
     "metadata": {},
     "output_type": "display_data"
    }
   ],
   "source": [
    "plt.hist(df.age)"
   ]
  },
  {
   "cell_type": "markdown",
   "metadata": {},
   "source": [
    "Observation from the Histogram plot above:\n",
    "The data is right skewed with a tail. Here Mode and Median are equal and the Mean > both Mean and Median  \n",
    "\n",
    "##### Obtained value of Age for the central rendency are as follows:\n",
    "1. Mean: 25.8825 years\n",
    "2. Median: 26 years\n",
    "3. Mode: 26 years"
   ]
  },
  {
   "cell_type": "code",
   "execution_count": 10,
   "metadata": {},
   "outputs": [
    {
     "data": {
      "text/plain": [
       "<AxesSubplot:xlabel='age'>"
      ]
     },
     "execution_count": 10,
     "metadata": {},
     "output_type": "execute_result"
    },
    {
     "data": {
      "image/png": "[encoded data removed]",
      "text/plain": [
       "<Figure size 432x288 with 1 Axes>"
      ]
     },
     "metadata": {},
     "output_type": "display_data"
    }
   ],
   "source": [
    "sns.boxplot(df.age)"
   ]
  },
  {
   "cell_type": "markdown",
   "metadata": {},
   "source": [
    "##### As per the boxplot above we have the following value of the spread for 'age':\n",
    "1. Min: 17 years\n",
    "2. Max: 39 years\n",
    "3. 1st Quartile (Q1): 22 years\n",
    "4. 2nd Quartile (Q2) Median: 26 years\n",
    "5. 3rd Quartile (Q3): 29 years"
   ]
  },
  {
   "cell_type": "markdown",
   "metadata": {},
   "source": [
    "#### Using formula:"
   ]
  },
  {
   "cell_type": "code",
   "execution_count": 11,
   "metadata": {},
   "outputs": [
    {
     "name": "stdout",
     "output_type": "stream",
     "text": [
      "Q1: 22.0\n",
      "Q3: 29.0\n",
      "IQR: 7.0\n"
     ]
    }
   ],
   "source": [
    "# using np.percentile\n",
    "Q1 = np.percentile(df.age, 25, interpolation='midpoint')\n",
    "print('Q1:', Q1)\n",
    "Q3 = np.percentile(df.age, 75, interpolation='midpoint')\n",
    "print('Q3:', Q3)\n",
    "IQR = Q3 - Q1\n",
    "print('IQR:', IQR)"
   ]
  },
  {
   "cell_type": "markdown",
   "metadata": {},
   "source": [
    "Therefore, the Interquartile Range (IQR) is 7 years"
   ]
  },
  {
   "cell_type": "markdown",
   "metadata": {},
   "source": [
    "##### Standard Deviation and Variance"
   ]
  },
  {
   "cell_type": "code",
   "execution_count": 12,
   "metadata": {},
   "outputs": [
    {
     "data": {
      "image/png": "[encoded data removed]",
      "text/plain": [
       "<Figure size 360x360 with 1 Axes>"
      ]
     },
     "metadata": {},
     "output_type": "display_data"
    }
   ],
   "source": [
    "data = df.age\n",
    "sns.displot(data, discrete=True, kde=True)\n",
    "plt.show()"
   ]
  },
  {
   "cell_type": "code",
   "execution_count": 13,
   "metadata": {},
   "outputs": [
    {
     "name": "stdout",
     "output_type": "stream",
     "text": [
      "Variance of Age is 24.026284600501203\n"
     ]
    }
   ],
   "source": [
    "\n",
    "import statistics\n",
    "\n",
    "print('Variance of Age is % s' %(statistics.variance(df.age)))"
   ]
  },
  {
   "cell_type": "markdown",
   "metadata": {},
   "source": [
    "Here, the Mean : 25.88\n",
    "<ul>\n",
    "    <li>and -σ to σ:   1st Standard Deviation would be ~1.86 (i.e. 68.2% of the data)</li>\n",
    "    <li>the -σ2 to σ2: 2nd Standard Deviation would be ~3.72 (i.e. 95% of the data)</li>\n",
    "    <li>and -σ3 to σ3: 3rd Standard Deviation would be ~5.58 (i.e. 99.7% of the data)</li>\n",
    "</ul>"
   ]
  },
  {
   "cell_type": "markdown",
   "metadata": {},
   "source": [
    "##### Age Difference of the entire Dataset:"
   ]
  },
  {
   "cell_type": "code",
   "execution_count": 14,
   "metadata": {
    "collapsed": true
   },
   "outputs": [],
   "source": [
    "df_snow = df[df['discipline'] == 'Snowboard']\n",
    "df_ski = df[df['discipline'] == 'Ski']"
   ]
  },
  {
   "cell_type": "code",
   "execution_count": 15,
   "metadata": {},
   "outputs": [
    {
     "name": "stdout",
     "output_type": "stream",
     "text": [
      "18\n",
      "45\n"
     ]
    }
   ],
   "source": [
    "print(df_snow['age'].min())\n",
    "print(df_snow['age'].max())"
   ]
  },
  {
   "cell_type": "code",
   "execution_count": 16,
   "metadata": {
    "scrolled": true
   },
   "outputs": [
    {
     "name": "stdout",
     "output_type": "stream",
     "text": [
      "17\n",
      "44\n"
     ]
    }
   ],
   "source": [
    "print(df_ski['age'].min())\n",
    "print(df_ski['age'].max())"
   ]
  },
  {
   "cell_type": "code",
   "execution_count": 17,
   "metadata": {
    "scrolled": false
   },
   "outputs": [
    {
     "data": {
      "text/plain": [
       "27"
      ]
     },
     "execution_count": 17,
     "metadata": {},
     "output_type": "execute_result"
    }
   ],
   "source": [
    "df[df['discipline'] == 'Snowboard'].age.max() - df[df['discipline'] == 'Snowboard'].age.min()"
   ]
  },
  {
   "cell_type": "code",
   "execution_count": 18,
   "metadata": {
    "scrolled": true
   },
   "outputs": [
    {
     "data": {
      "text/plain": [
       "27"
      ]
     },
     "execution_count": 18,
     "metadata": {},
     "output_type": "execute_result"
    }
   ],
   "source": [
    "df[df['discipline'] == 'Ski'].age.max() - df[df['discipline'] == 'Ski'].age.min()"
   ]
  },
  {
   "cell_type": "code",
   "execution_count": 19,
   "metadata": {},
   "outputs": [
    {
     "data": {
      "image/png": "[encoded data removed]",
      "text/plain": [
       "<Figure size 432x288 with 1 Axes>"
      ]
     },
     "metadata": {},
     "output_type": "display_data"
    }
   ],
   "source": [
    "sns.boxplot(x=df['discipline'], \n",
    "            y=df['age'],\n",
    "            data=df,\n",
    "            hue=\"discipline\"\n",
    "           )\n",
    "plt.show()\n"
   ]
  },
  {
   "cell_type": "code",
   "execution_count": 20,
   "metadata": {},
   "outputs": [
    {
     "data": {
      "text/plain": [
       "<seaborn.axisgrid.FacetGrid at 0x18a79fc6dd8>"
      ]
     },
     "execution_count": 20,
     "metadata": {},
     "output_type": "execute_result"
    },
    {
     "data": {
      "image/png": "[encoded data removed]",
      "text/plain": [
       "<Figure size 455.6x360 with 1 Axes>"
      ]
     },
     "metadata": {},
     "output_type": "display_data"
    }
   ],
   "source": [
    "sns.displot(df, x=\"age\", hue=\"discipline\")"
   ]
  },
  {
   "cell_type": "markdown",
   "metadata": {},
   "source": [
    "#### PDF and CDF of the entire dataset: (EDA)"
   ]
  },
  {
   "cell_type": "code",
   "execution_count": 21,
   "metadata": {},
   "outputs": [
    {
     "data": {
      "image/png": "[encoded data removed]",
      "text/plain": [
       "<Figure size 432x288 with 1 Axes>"
      ]
     },
     "metadata": {},
     "output_type": "display_data"
    }
   ],
   "source": [
    "counts, bins_counts = np.histogram(df['age'], bins=10)\n",
    "pdf = counts/sum(counts)\n",
    "cdf = np.cumsum(pdf)\n",
    "\n",
    "sns.lineplot(bins_counts[1:], pdf, label = 'PDF')\n",
    "sns.lineplot(bins_counts[1:], cdf, label = 'CDF')\n",
    "plt.legend()\n",
    "plt.show()"
   ]
  },
  {
   "cell_type": "markdown",
   "metadata": {},
   "source": [
    "##### PDF and CDF of Female Snowboard:"
   ]
  },
  {
   "cell_type": "code",
   "execution_count": 22,
   "metadata": {},
   "outputs": [
    {
     "data": {
      "image/png": "[encoded data removed]",
      "text/plain": [
       "<Figure size 432x288 with 1 Axes>"
      ]
     },
     "metadata": {},
     "output_type": "display_data"
    }
   ],
   "source": [
    "counts, bins_counts = np.histogram(df[(df['sex']=='f') & (df['discipline']=='Snowboard')].age, bins=10)\n",
    "pdf = counts/sum(counts)\n",
    "cdf = np.cumsum(pdf)\n",
    "\n",
    "sns.lineplot(bins_counts[1:], pdf, label = 'PDF')\n",
    "sns.lineplot(bins_counts[1:], cdf, label = 'CDF')\n",
    "plt.legend()\n",
    "plt.show()"
   ]
  },
  {
   "cell_type": "markdown",
   "metadata": {},
   "source": [
    "##### PDF and CDF of Female Ski:"
   ]
  },
  {
   "cell_type": "code",
   "execution_count": 23,
   "metadata": {},
   "outputs": [
    {
     "data": {
      "image/png": "[encoded data removed]",
      "text/plain": [
       "<Figure size 432x288 with 1 Axes>"
      ]
     },
     "metadata": {},
     "output_type": "display_data"
    }
   ],
   "source": [
    "counts, bins_counts = np.histogram(df[(df['sex']=='f') & (df['discipline']=='Ski')].age, bins=10)\n",
    "pdf = counts/sum(counts)\n",
    "cdf = np.cumsum(pdf)\n",
    "\n",
    "sns.lineplot(bins_counts[1:], pdf, label = 'PDF')\n",
    "sns.lineplot(bins_counts[1:], cdf, label = 'CDF')\n",
    "plt.legend()\n",
    "plt.show()"
   ]
  },
  {
   "cell_type": "markdown",
   "metadata": {},
   "source": [
    "##### Hypothesis Testing on Female Dataset:"
   ]
  },
  {
   "cell_type": "code",
   "execution_count": 24,
   "metadata": {
    "scrolled": false
   },
   "outputs": [
    {
     "data": {
      "text/html": [
       "<div>\n",
       "<style scoped>\n",
       "    .dataframe tbody tr th:only-of-type {\n",
       "        vertical-align: middle;\n",
       "    }\n",
       "\n",
       "    .dataframe tbody tr th {\n",
       "        vertical-align: top;\n",
       "    }\n",
       "\n",
       "    .dataframe thead th {\n",
       "        text-align: right;\n",
       "    }\n",
       "</style>\n",
       "<table border=\"1\" class=\"dataframe\">\n",
       "  <thead>\n",
       "    <tr style=\"text-align: right;\">\n",
       "      <th></th>\n",
       "      <th>olympics</th>\n",
       "      <th>discipline</th>\n",
       "      <th>sex</th>\n",
       "      <th>age</th>\n",
       "    </tr>\n",
       "  </thead>\n",
       "  <tbody>\n",
       "    <tr>\n",
       "      <th>0</th>\n",
       "      <td>2022</td>\n",
       "      <td>Snowboard</td>\n",
       "      <td>f</td>\n",
       "      <td>24</td>\n",
       "    </tr>\n",
       "    <tr>\n",
       "      <th>1</th>\n",
       "      <td>2022</td>\n",
       "      <td>Snowboard</td>\n",
       "      <td>f</td>\n",
       "      <td>28</td>\n",
       "    </tr>\n",
       "    <tr>\n",
       "      <th>2</th>\n",
       "      <td>2022</td>\n",
       "      <td>Snowboard</td>\n",
       "      <td>f</td>\n",
       "      <td>26</td>\n",
       "    </tr>\n",
       "    <tr>\n",
       "      <th>3</th>\n",
       "      <td>2022</td>\n",
       "      <td>Snowboard</td>\n",
       "      <td>f</td>\n",
       "      <td>26</td>\n",
       "    </tr>\n",
       "    <tr>\n",
       "      <th>4</th>\n",
       "      <td>2022</td>\n",
       "      <td>Snowboard</td>\n",
       "      <td>f</td>\n",
       "      <td>26</td>\n",
       "    </tr>\n",
       "    <tr>\n",
       "      <th>...</th>\n",
       "      <td>...</td>\n",
       "      <td>...</td>\n",
       "      <td>...</td>\n",
       "      <td>...</td>\n",
       "    </tr>\n",
       "    <tr>\n",
       "      <th>712</th>\n",
       "      <td>2014</td>\n",
       "      <td>Snowboard</td>\n",
       "      <td>f</td>\n",
       "      <td>26</td>\n",
       "    </tr>\n",
       "    <tr>\n",
       "      <th>713</th>\n",
       "      <td>2014</td>\n",
       "      <td>Snowboard</td>\n",
       "      <td>f</td>\n",
       "      <td>27</td>\n",
       "    </tr>\n",
       "    <tr>\n",
       "      <th>714</th>\n",
       "      <td>2014</td>\n",
       "      <td>Snowboard</td>\n",
       "      <td>f</td>\n",
       "      <td>24</td>\n",
       "    </tr>\n",
       "    <tr>\n",
       "      <th>715</th>\n",
       "      <td>2014</td>\n",
       "      <td>Snowboard</td>\n",
       "      <td>f</td>\n",
       "      <td>23</td>\n",
       "    </tr>\n",
       "    <tr>\n",
       "      <th>716</th>\n",
       "      <td>2014</td>\n",
       "      <td>Snowboard</td>\n",
       "      <td>f</td>\n",
       "      <td>26</td>\n",
       "    </tr>\n",
       "  </tbody>\n",
       "</table>\n",
       "<p>346 rows × 4 columns</p>\n",
       "</div>"
      ],
      "text/plain": [
       "     olympics discipline sex  age\n",
       "0        2022  Snowboard   f   24\n",
       "1        2022  Snowboard   f   28\n",
       "2        2022  Snowboard   f   26\n",
       "3        2022  Snowboard   f   26\n",
       "4        2022  Snowboard   f   26\n",
       "..        ...        ...  ..  ...\n",
       "712      2014  Snowboard   f   26\n",
       "713      2014  Snowboard   f   27\n",
       "714      2014  Snowboard   f   24\n",
       "715      2014  Snowboard   f   23\n",
       "716      2014  Snowboard   f   26\n",
       "\n",
       "[346 rows x 4 columns]"
      ]
     },
     "execution_count": 24,
     "metadata": {},
     "output_type": "execute_result"
    }
   ],
   "source": [
    "df_f = df[df['sex']=='f']\n",
    "df_f"
   ]
  },
  {
   "cell_type": "code",
   "execution_count": 25,
   "metadata": {},
   "outputs": [
    {
     "data": {
      "text/html": [
       "<div>\n",
       "<style scoped>\n",
       "    .dataframe tbody tr th:only-of-type {\n",
       "        vertical-align: middle;\n",
       "    }\n",
       "\n",
       "    .dataframe tbody tr th {\n",
       "        vertical-align: top;\n",
       "    }\n",
       "\n",
       "    .dataframe thead th {\n",
       "        text-align: right;\n",
       "    }\n",
       "</style>\n",
       "<table border=\"1\" class=\"dataframe\">\n",
       "  <thead>\n",
       "    <tr style=\"text-align: right;\">\n",
       "      <th></th>\n",
       "      <th>olympics</th>\n",
       "      <th>discipline</th>\n",
       "      <th>sex</th>\n",
       "      <th>age</th>\n",
       "    </tr>\n",
       "  </thead>\n",
       "  <tbody>\n",
       "    <tr>\n",
       "      <th>0</th>\n",
       "      <td>2022</td>\n",
       "      <td>Snowboard</td>\n",
       "      <td>f</td>\n",
       "      <td>24</td>\n",
       "    </tr>\n",
       "    <tr>\n",
       "      <th>1</th>\n",
       "      <td>2022</td>\n",
       "      <td>Snowboard</td>\n",
       "      <td>f</td>\n",
       "      <td>28</td>\n",
       "    </tr>\n",
       "    <tr>\n",
       "      <th>2</th>\n",
       "      <td>2022</td>\n",
       "      <td>Snowboard</td>\n",
       "      <td>f</td>\n",
       "      <td>26</td>\n",
       "    </tr>\n",
       "    <tr>\n",
       "      <th>3</th>\n",
       "      <td>2022</td>\n",
       "      <td>Snowboard</td>\n",
       "      <td>f</td>\n",
       "      <td>26</td>\n",
       "    </tr>\n",
       "    <tr>\n",
       "      <th>4</th>\n",
       "      <td>2022</td>\n",
       "      <td>Snowboard</td>\n",
       "      <td>f</td>\n",
       "      <td>26</td>\n",
       "    </tr>\n",
       "    <tr>\n",
       "      <th>...</th>\n",
       "      <td>...</td>\n",
       "      <td>...</td>\n",
       "      <td>...</td>\n",
       "      <td>...</td>\n",
       "    </tr>\n",
       "    <tr>\n",
       "      <th>712</th>\n",
       "      <td>2014</td>\n",
       "      <td>Snowboard</td>\n",
       "      <td>f</td>\n",
       "      <td>26</td>\n",
       "    </tr>\n",
       "    <tr>\n",
       "      <th>713</th>\n",
       "      <td>2014</td>\n",
       "      <td>Snowboard</td>\n",
       "      <td>f</td>\n",
       "      <td>27</td>\n",
       "    </tr>\n",
       "    <tr>\n",
       "      <th>714</th>\n",
       "      <td>2014</td>\n",
       "      <td>Snowboard</td>\n",
       "      <td>f</td>\n",
       "      <td>24</td>\n",
       "    </tr>\n",
       "    <tr>\n",
       "      <th>715</th>\n",
       "      <td>2014</td>\n",
       "      <td>Snowboard</td>\n",
       "      <td>f</td>\n",
       "      <td>23</td>\n",
       "    </tr>\n",
       "    <tr>\n",
       "      <th>716</th>\n",
       "      <td>2014</td>\n",
       "      <td>Snowboard</td>\n",
       "      <td>f</td>\n",
       "      <td>26</td>\n",
       "    </tr>\n",
       "  </tbody>\n",
       "</table>\n",
       "<p>94 rows × 4 columns</p>\n",
       "</div>"
      ],
      "text/plain": [
       "     olympics discipline sex  age\n",
       "0        2022  Snowboard   f   24\n",
       "1        2022  Snowboard   f   28\n",
       "2        2022  Snowboard   f   26\n",
       "3        2022  Snowboard   f   26\n",
       "4        2022  Snowboard   f   26\n",
       "..        ...        ...  ..  ...\n",
       "712      2014  Snowboard   f   26\n",
       "713      2014  Snowboard   f   27\n",
       "714      2014  Snowboard   f   24\n",
       "715      2014  Snowboard   f   23\n",
       "716      2014  Snowboard   f   26\n",
       "\n",
       "[94 rows x 4 columns]"
      ]
     },
     "execution_count": 25,
     "metadata": {},
     "output_type": "execute_result"
    }
   ],
   "source": [
    "df_snowboard = df_f[df_f['discipline']=='Snowboard']\n",
    "df_snowboard"
   ]
  },
  {
   "cell_type": "code",
   "execution_count": 26,
   "metadata": {},
   "outputs": [
    {
     "data": {
      "text/html": [
       "<div>\n",
       "<style scoped>\n",
       "    .dataframe tbody tr th:only-of-type {\n",
       "        vertical-align: middle;\n",
       "    }\n",
       "\n",
       "    .dataframe tbody tr th {\n",
       "        vertical-align: top;\n",
       "    }\n",
       "\n",
       "    .dataframe thead th {\n",
       "        text-align: right;\n",
       "    }\n",
       "</style>\n",
       "<table border=\"1\" class=\"dataframe\">\n",
       "  <thead>\n",
       "    <tr style=\"text-align: right;\">\n",
       "      <th></th>\n",
       "      <th>olympics</th>\n",
       "      <th>discipline</th>\n",
       "      <th>sex</th>\n",
       "      <th>age</th>\n",
       "    </tr>\n",
       "  </thead>\n",
       "  <tbody>\n",
       "    <tr>\n",
       "      <th>63</th>\n",
       "      <td>2022</td>\n",
       "      <td>Ski</td>\n",
       "      <td>f</td>\n",
       "      <td>24</td>\n",
       "    </tr>\n",
       "    <tr>\n",
       "      <th>64</th>\n",
       "      <td>2022</td>\n",
       "      <td>Ski</td>\n",
       "      <td>f</td>\n",
       "      <td>20</td>\n",
       "    </tr>\n",
       "    <tr>\n",
       "      <th>65</th>\n",
       "      <td>2022</td>\n",
       "      <td>Ski</td>\n",
       "      <td>f</td>\n",
       "      <td>21</td>\n",
       "    </tr>\n",
       "    <tr>\n",
       "      <th>66</th>\n",
       "      <td>2022</td>\n",
       "      <td>Ski</td>\n",
       "      <td>f</td>\n",
       "      <td>20</td>\n",
       "    </tr>\n",
       "    <tr>\n",
       "      <th>67</th>\n",
       "      <td>2022</td>\n",
       "      <td>Ski</td>\n",
       "      <td>f</td>\n",
       "      <td>26</td>\n",
       "    </tr>\n",
       "    <tr>\n",
       "      <th>...</th>\n",
       "      <td>...</td>\n",
       "      <td>...</td>\n",
       "      <td>...</td>\n",
       "      <td>...</td>\n",
       "    </tr>\n",
       "    <tr>\n",
       "      <th>680</th>\n",
       "      <td>2014</td>\n",
       "      <td>Ski</td>\n",
       "      <td>f</td>\n",
       "      <td>30</td>\n",
       "    </tr>\n",
       "    <tr>\n",
       "      <th>681</th>\n",
       "      <td>2014</td>\n",
       "      <td>Ski</td>\n",
       "      <td>f</td>\n",
       "      <td>27</td>\n",
       "    </tr>\n",
       "    <tr>\n",
       "      <th>682</th>\n",
       "      <td>2014</td>\n",
       "      <td>Ski</td>\n",
       "      <td>f</td>\n",
       "      <td>19</td>\n",
       "    </tr>\n",
       "    <tr>\n",
       "      <th>683</th>\n",
       "      <td>2014</td>\n",
       "      <td>Ski</td>\n",
       "      <td>f</td>\n",
       "      <td>29</td>\n",
       "    </tr>\n",
       "    <tr>\n",
       "      <th>684</th>\n",
       "      <td>2014</td>\n",
       "      <td>Ski</td>\n",
       "      <td>f</td>\n",
       "      <td>27</td>\n",
       "    </tr>\n",
       "  </tbody>\n",
       "</table>\n",
       "<p>252 rows × 4 columns</p>\n",
       "</div>"
      ],
      "text/plain": [
       "     olympics discipline sex  age\n",
       "63       2022        Ski   f   24\n",
       "64       2022        Ski   f   20\n",
       "65       2022        Ski   f   21\n",
       "66       2022        Ski   f   20\n",
       "67       2022        Ski   f   26\n",
       "..        ...        ...  ..  ...\n",
       "680      2014        Ski   f   30\n",
       "681      2014        Ski   f   27\n",
       "682      2014        Ski   f   19\n",
       "683      2014        Ski   f   29\n",
       "684      2014        Ski   f   27\n",
       "\n",
       "[252 rows x 4 columns]"
      ]
     },
     "execution_count": 26,
     "metadata": {},
     "output_type": "execute_result"
    }
   ],
   "source": [
    "df_ski = df_f[df_f['discipline']=='Ski']\n",
    "df_ski"
   ]
  },
  {
   "cell_type": "code",
   "execution_count": 27,
   "metadata": {},
   "outputs": [
    {
     "name": "stdout",
     "output_type": "stream",
     "text": [
      "26.872340425531913\n"
     ]
    }
   ],
   "source": [
    "mu_1 = np.mean(df_snowboard.age)\n",
    "print(mu_1)"
   ]
  },
  {
   "cell_type": "code",
   "execution_count": 28,
   "metadata": {},
   "outputs": [
    {
     "name": "stdout",
     "output_type": "stream",
     "text": [
      "24.607142857142858\n"
     ]
    }
   ],
   "source": [
    "mu_2 = np.mean(df_ski.age)\n",
    "print(mu_2)"
   ]
  },
  {
   "cell_type": "code",
   "execution_count": 29,
   "metadata": {},
   "outputs": [
    {
     "data": {
      "text/plain": [
       "2.2651975683890555"
      ]
     },
     "execution_count": 29,
     "metadata": {},
     "output_type": "execute_result"
    }
   ],
   "source": [
    "np.abs(mu_2 - mu_1)"
   ]
  },
  {
   "cell_type": "markdown",
   "metadata": {},
   "source": [
    "#### assuming\n",
    "<ul>\n",
    "    <li>H_0: there is age difference</li>\n",
    "    <li>H_a: there is no age difference</li>\n",
    "</ul>"
   ]
  },
  {
   "cell_type": "code",
   "execution_count": 30,
   "metadata": {
    "collapsed": true
   },
   "outputs": [],
   "source": [
    "#combining datasets\n",
    "\n",
    "dataset1 = df_snowboard[\"age\"]\n",
    "dataset2 = df_ski[\"age\"]\n",
    "data_c = np.concatenate([dataset1, dataset2])\n"
   ]
  },
  {
   "cell_type": "code",
   "execution_count": 31,
   "metadata": {},
   "outputs": [
    {
     "data": {
      "text/plain": [
       "array([24, 28, 26, 26, 26, 25, 29, 19, 39, 22, 30, 26, 26, 35, 24, 31, 32,\n",
       "       23, 27, 24, 19, 24, 27, 29, 28, 35, 30, 33, 27, 19, 32, 23, 20, 22,\n",
       "       29, 35, 26, 20, 28, 22, 20, 28, 31, 25, 31, 29, 31, 22, 25, 23, 23,\n",
       "       33, 24, 26, 27, 30, 20, 36, 28, 29, 45, 26, 27, 29, 27, 29, 33, 19,\n",
       "       22, 24, 27, 28, 26, 41, 25, 31, 19, 27, 30, 22, 18, 35, 24, 21, 25,\n",
       "       21, 25, 36, 27, 26, 27, 24, 23, 26, 24, 20, 21, 20, 26, 27, 19, 20,\n",
       "       23, 24, 21, 27, 31, 33, 29, 21, 29, 25, 24, 19, 26, 32, 31, 26, 30,\n",
       "       21, 26, 18, 26, 18, 22, 17, 21, 18, 43, 21, 21, 27, 27, 30, 26, 28,\n",
       "       28, 25, 31, 26, 31, 24, 28, 21, 17, 20, 26, 25, 21, 25, 27, 21, 21,\n",
       "       20, 30, 22, 29, 31, 29, 23, 19, 27, 29, 24, 31, 25, 28, 20, 21, 28,\n",
       "       22, 20, 22, 28, 25, 27, 35, 29, 28, 24, 29, 26, 23, 27, 26, 23, 25,\n",
       "       33, 22, 26, 27, 33, 29, 29, 20, 29, 25, 23, 25, 28, 26, 22, 25, 30,\n",
       "       25, 21, 31, 24, 28, 21, 17, 22, 24, 24, 19, 39, 25, 28, 25, 26, 28,\n",
       "       20, 29, 22, 23, 28, 20, 19, 22, 25, 18, 21, 33, 26, 23, 24, 25, 32,\n",
       "       23, 22, 21, 17, 20, 19, 22, 30, 27, 24, 24, 17, 22, 17, 20, 24, 17,\n",
       "       19, 26, 26, 21, 26, 30, 22, 25, 19, 25, 33, 29, 28, 29, 25, 22, 28,\n",
       "       25, 24, 26, 24, 27, 18, 24, 22, 21, 29, 20, 19, 34, 26, 22, 30, 26,\n",
       "       21, 30, 25, 25, 26, 26, 26, 18, 20, 19, 23, 24, 28, 34, 24, 18, 18,\n",
       "       24, 20, 18, 23, 23, 25, 22, 23, 23, 24, 20, 18, 19, 22, 26, 26, 31,\n",
       "       24, 18, 24, 29, 23, 21, 29, 22, 24, 23, 19, 29, 26, 30, 28, 19, 29,\n",
       "       25, 30, 27, 19, 29, 27], dtype=int64)"
      ]
     },
     "execution_count": 31,
     "metadata": {},
     "output_type": "execute_result"
    }
   ],
   "source": [
    "data_c"
   ]
  },
  {
   "cell_type": "markdown",
   "metadata": {},
   "source": [
    "#### Shuffle and randomly sample"
   ]
  },
  {
   "cell_type": "code",
   "execution_count": 32,
   "metadata": {},
   "outputs": [
    {
     "data": {
      "text/plain": [
       "array([[194,  60, 108, ..., 259, 288, 127],\n",
       "       [ 71, 187,  25, ...,  98, 246, 344],\n",
       "       [ 66, 190, 288, ...,  39, 293,  19],\n",
       "       ...,\n",
       "       [ 68,  43, 196, ...,   9, 135,  74],\n",
       "       [298,  28, 264, ..., 117,  87, 196],\n",
       "       [  5,  93, 158, ..., 216, 259,  13]])"
      ]
     },
     "execution_count": 32,
     "metadata": {},
     "output_type": "execute_result"
    }
   ],
   "source": [
    "perm = np.array([np.random.permutation(len(dataset1) + len(dataset2))\n",
    "                for i in range (10000)])\n",
    "perm"
   ]
  },
  {
   "cell_type": "code",
   "execution_count": 33,
   "metadata": {},
   "outputs": [
    {
     "data": {
      "text/plain": [
       "array([[20, 45, 29, ..., 19, 26, 28],\n",
       "       [28, 33, 35, ..., 35, 24, 19],\n",
       "       [33, 27, 26, ..., 21, 19, 29],\n",
       "       ...,\n",
       "       [22, 25, 25, ..., 24, 26, 28],\n",
       "       [19, 27, 25, ..., 22, 24, 27],\n",
       "       [25, 26, 29, ..., 19, 21, 19]], dtype=int64)"
      ]
     },
     "execution_count": 33,
     "metadata": {},
     "output_type": "execute_result"
    }
   ],
   "source": [
    "permuted_1 = data_c[perm[:, :len(dataset1)]]\n",
    "permuted_1"
   ]
  },
  {
   "cell_type": "code",
   "execution_count": 34,
   "metadata": {},
   "outputs": [
    {
     "data": {
      "text/plain": [
       "array([[20, 45, 29, ..., 23, 30, 17],\n",
       "       [28, 33, 35, ..., 24, 25, 24],\n",
       "       [33, 27, 26, ..., 22, 28, 27],\n",
       "       ...,\n",
       "       [22, 25, 25, ..., 33, 31, 21],\n",
       "       [19, 27, 25, ..., 28, 27, 19],\n",
       "       [25, 26, 29, ..., 26, 24, 29]], dtype=int64)"
      ]
     },
     "execution_count": 34,
     "metadata": {},
     "output_type": "execute_result"
    }
   ],
   "source": [
    "permuted_2 = data_c[perm[:, :len(dataset2)]]\n",
    "permuted_2"
   ]
  },
  {
   "cell_type": "markdown",
   "metadata": {},
   "source": [
    "#### calculate test statistics"
   ]
  },
  {
   "cell_type": "code",
   "execution_count": 36,
   "metadata": {},
   "outputs": [
    {
     "data": {
      "text/plain": [
       "array([ 0.05057413,  0.34971293, -0.25624789, ...,  0.80226275,\n",
       "       -0.132641  , -0.45736238])"
      ]
     },
     "execution_count": 36,
     "metadata": {},
     "output_type": "execute_result"
    }
   ],
   "source": [
    "testdata = np.mean(permuted_1, axis=1) - np.mean(permuted_2, axis=1)\n",
    "testdata\n",
    "\n",
    "##axis = 0 -> row, axis =1 -> column"
   ]
  },
  {
   "cell_type": "markdown",
   "metadata": {},
   "source": [
    "#### compare datasets"
   ]
  },
  {
   "cell_type": "code",
   "execution_count": 44,
   "metadata": {},
   "outputs": [
    {
     "data": {
      "text/plain": [
       "0.005814429246875363"
      ]
     },
     "execution_count": 44,
     "metadata": {},
     "output_type": "execute_result"
    }
   ],
   "source": [
    "test_sat = np.mean(permuted_1) - np.mean(permuted_2)\n",
    "test_sat"
   ]
  },
  {
   "cell_type": "code",
   "execution_count": 40,
   "metadata": {
    "collapsed": true
   },
   "outputs": [],
   "source": [
    "p_value = 2*np.sum(testdata >= np.abs(test_sat))/10000"
   ]
  },
  {
   "cell_type": "code",
   "execution_count": 43,
   "metadata": {},
   "outputs": [
    {
     "name": "stdout",
     "output_type": "stream",
     "text": [
      "p_value = 0.9884\n"
     ]
    }
   ],
   "source": [
    "print(\"p_value = {}\". format(p_value))"
   ]
  },
  {
   "cell_type": "markdown",
   "metadata": {},
   "source": [
    "### if p value is > 5% then we accept H_0 and reject H_a\n"
   ]
  },
  {
   "cell_type": "markdown",
   "metadata": {},
   "source": [
    "### here p value is 98%  therefore, we accept H_0 and reject H_a"
   ]
  },
  {
   "cell_type": "code",
   "execution_count": null,
   "metadata": {
    "collapsed": true
   },
   "outputs": [],
   "source": []
  }
 ],
 "metadata": {
  "kernelspec": {
   "display_name": "Python 3",
   "language": "python",
   "name": "python3"
  },
  "language_info": {
   "codemirror_mode": {
    "name": "ipython",
    "version": 3
   },
   "file_extension": ".py",
   "mimetype": "text/x-python",
   "name": "python",
   "nbconvert_exporter": "python",
   "pygments_lexer": "ipython3",
   "version": "3.6.3"
  }
 },
 "nbformat": 4,
 "nbformat_minor": 5
}
